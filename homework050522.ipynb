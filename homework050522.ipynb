{
 "cells": [
  {
   "cell_type": "code",
   "execution_count": 2,
   "id": "bf090091",
   "metadata": {},
   "outputs": [
    {
     "name": "stdout",
     "output_type": "stream",
     "text": [
      "nhap so nguyen: 7\n",
      "odd\n"
     ]
    }
   ],
   "source": [
    "# luyện tập với toán tử 3 ngôi\n",
    "x = int(input(\"nhap so nguyen: \"))\n",
    "if x % 2 == 0:\n",
    "    print (\"even\")\n",
    "else :\n",
    "    print(\"odd\")"
   ]
  },
  {
   "cell_type": "code",
   "execution_count": 3,
   "id": "27fb5ea8",
   "metadata": {},
   "outputs": [
    {
     "name": "stdout",
     "output_type": "stream",
     "text": [
      "2.5\n",
      "không phải số tự nhiên\n"
     ]
    }
   ],
   "source": [
    "# kiểm tra số chẵn lẻ\n",
    "a = input()\n",
    "a = float(a)\n",
    "if a % 2 == 0:\n",
    "    print('số chẵn')\n",
    "elif a % 2 == 1:\n",
    "    print('số lẻ')\n",
    "else:\n",
    "    print('không phải số tự nhiên')"
   ]
  },
  {
   "cell_type": "code",
   "execution_count": 5,
   "id": "25800903",
   "metadata": {},
   "outputs": [
    {
     "name": "stdout",
     "output_type": "stream",
     "text": [
      "Give me a number (from 1 to 7): 5\n",
      "Friday\n"
     ]
    }
   ],
   "source": [
    "# Hiển thị ngày trong tuần\n",
    "num = int(input(\"Give me a number (from 1 to 7): \"))\n",
    "if num == 1:\n",
    "    print(\"Monday\")\n",
    "elif num == 2:\n",
    "    print(\"Tuesday\")\n",
    "elif num == 3:\n",
    "    print(\"Wednesday\")\n",
    "elif num == 4:\n",
    "    print(\"Thursday\")\n",
    "elif num == 5:\n",
    "    print(\"Friday\")\n",
    "elif num == 6:\n",
    "    print(\"Saturday\")\n",
    "elif num == 7:\n",
    "    print(\"Sunday\")\n",
    "else:\n",
    "    print(\"Error, out of range\")"
   ]
  },
  {
   "cell_type": "code",
   "execution_count": 7,
   "id": "4d11eba1",
   "metadata": {},
   "outputs": [
    {
     "name": "stdout",
     "output_type": "stream",
     "text": [
      "Give me a price: 124\n",
      "Total:  99\n"
     ]
    }
   ],
   "source": [
    "# Hiển thị thông tin đơn hàng\n",
    "num = int(input(\"Give me a price: \"))\n",
    "if num >= 150:\n",
    "    print(\"Total: \", num - 50)\n",
    "elif num >= 100:\n",
    "    print(\"Total: \", num - 25)\n",
    "elif num >= 75:\n",
    "    print(\"Total: \", num - 15)\n",
    "else:\n",
    "    print(\"Total: \", num)"
   ]
  },
  {
   "cell_type": "code",
   "execution_count": 8,
   "id": "4e073cd3",
   "metadata": {},
   "outputs": [
    {
     "name": "stdout",
     "output_type": "stream",
     "text": [
      "nhap can nang: 75\n",
      "nhap chieu cao: 164\n",
      "Gầy cấp độ III\n"
     ]
    }
   ],
   "source": [
    "# Tính chỉ số cân nặng cơ thể\n",
    "a = int(input(\"nhap can nang: \"))\n",
    "b = int(input(\"nhap chieu cao: \"))\n",
    "BMI = a / (b*b)\n",
    "if BMI < 16:\n",
    "    print(\"Gầy cấp độ III\")\n",
    "elif BMI < 17:\n",
    "    print(\"Gầy cấp độ II\")\n",
    "elif BMI < 18.5:\n",
    "    print(\"Gầy cấp độ I\")\n",
    "elif BMI < 25:\n",
    "    print(\"Bình Thường\")\n",
    "elif BMI <30:\n",
    "    print(\"Thừa cân\")\n",
    "elif BMI < 35:\n",
    "    print(\"Béo phì cấp độ I\")\n",
    "elif BMI<40:\n",
    "    print(\"Béo phì cấp độ II\")\n",
    "else:\n",
    "    print(\"Béo phì cấp độ III\")"
   ]
  },
  {
   "cell_type": "code",
   "execution_count": null,
   "id": "61fc5a1e",
   "metadata": {},
   "outputs": [],
   "source": [
    "BMI < 16: Gầy cấp độ III\n",
    "16 <= BMI < 17:  Gầy cấp độ II\n",
    "17<= BMI < 18.5: Gầy cấp độ I\n",
    "18.5 <= BMI < 25: Bình thường\n",
    "25 <= BMI < 30: Thừa cân\n",
    "30 <= BMI < 35 : Béo phì cấp độ I\n",
    "35 <= BMI < 40: Béo phì cấp độ II\n",
    "BMI > 40: Béo phì cấp độ III"
   ]
  }
 ],
 "metadata": {
  "kernelspec": {
   "display_name": "Python 3 (ipykernel)",
   "language": "python",
   "name": "python3"
  },
  "language_info": {
   "codemirror_mode": {
    "name": "ipython",
    "version": 3
   },
   "file_extension": ".py",
   "mimetype": "text/x-python",
   "name": "python",
   "nbconvert_exporter": "python",
   "pygments_lexer": "ipython3",
   "version": "3.10.4"
  }
 },
 "nbformat": 4,
 "nbformat_minor": 5
}
#vẽ đường xoắn ốc
import turtle

t = turtle.Turtle()

for i in range(100):
    t.forward(i)
    t.right(10)

turtle.done()

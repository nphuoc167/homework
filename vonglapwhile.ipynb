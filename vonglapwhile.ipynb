{
 "cells": [
  {
   "cell_type": "code",
   "execution_count": 1,
   "id": "091a41f0",
   "metadata": {
    "scrolled": true
   },
   "outputs": [
    {
     "name": "stdout",
     "output_type": "stream",
     "text": [
      "Nhap so: 100\n"
     ]
    }
   ],
   "source": [
    "#vẽ đường xoắc ốc\n",
    "import turtle\n",
    "t = turtle.Turtle()\n",
    "n = int(input(\"Nhap so: \"))\n",
    "i = 1\n",
    "while i <= n:\n",
    "    t.forward(1+i)\n",
    "    t.left(30)\n",
    "    i+=1\n",
    "turtle.done()"
   ]
  },
  {
   "cell_type": "code",
   "execution_count": 1,
   "id": "f38de066",
   "metadata": {},
   "outputs": [],
   "source": [
    "#vẽ hình elip\n",
    "import turtle\n",
    "i = 0\n",
    "turtle.seth(-45)\n",
    "while i < 2:\n",
    "    turtle.circle(100,90)\n",
    "    turtle.circle(50,90)\n",
    "    i+=1"
   ]
  },
  {
   "cell_type": "code",
   "execution_count": null,
   "id": "c51beb51",
   "metadata": {},
   "outputs": [],
   "source": [
    "# import package and making object\n",
    "import turtle\n",
    "screen = turtle.Screen()\n",
    " \n",
    "# method to draw ellipse\n",
    "def draw(rad):\n",
    "     \n",
    "  # rad --> radius for arc\n",
    "    for i in range(2):\n",
    "        turtle.circle(rad,90)\n",
    "        turtle.circle(rad//2,90)\n",
    " \n",
    "# Main Section\n",
    "# Set screen size\n",
    "screen.setup(500,500)\n",
    " \n",
    "# Set screen color\n",
    "screen.bgcolor('black')\n",
    " \n",
    "# Colors\n",
    "col=['violet','blue','green','yellow',\n",
    "     'orange','red']\n",
    " \n",
    "# some integers\n",
    "val=10\n",
    "ind=0\n",
    " \n",
    "# turtle speed\n",
    "turtle.speed(100)\n",
    " \n",
    "# loop for multiple ellipse\n",
    "for i in range(36):\n",
    "     \n",
    "    # oriented the ellipse at angle = -val\n",
    "    turtle.seth(-val)\n",
    "     \n",
    "    # color of ellipse\n",
    "    turtle.color(col[ind])\n",
    "     \n",
    "    # to access different color\n",
    "    if ind==5:\n",
    "        ind=0\n",
    "    else:\n",
    "        ind+=1\n",
    "     \n",
    "    # calling method\n",
    "    draw(80)\n",
    "     \n",
    "    # orientation change\n",
    "    val+=10\n",
    " \n",
    "# for hiding the turtle\n",
    "turtle.hideturtle()"
   ]
  }
 ],
 "metadata": {
  "kernelspec": {
   "display_name": "Python 3 (ipykernel)",
   "language": "python",
   "name": "python3"
  },
  "language_info": {
   "codemirror_mode": {
    "name": "ipython",
    "version": 3
   },
   "file_extension": ".py",
   "mimetype": "text/x-python",
   "name": "python",
   "nbconvert_exporter": "python",
   "pygments_lexer": "ipython3",
   "version": "3.10.4"
  }
 },
 "nbformat": 4,
 "nbformat_minor": 5
}
